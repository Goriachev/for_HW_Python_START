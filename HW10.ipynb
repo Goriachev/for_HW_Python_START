{
  "nbformat": 4,
  "nbformat_minor": 0,
  "metadata": {
    "colab": {
      "provenance": [],
      "authorship_tag": "ABX9TyPcJuIniRQhMq7Kx4bltdnI",
      "include_colab_link": true
    },
    "kernelspec": {
      "name": "python3",
      "display_name": "Python 3"
    },
    "language_info": {
      "name": "python"
    }
  },
  "cells": [
    {
      "cell_type": "markdown",
      "metadata": {
        "id": "view-in-github",
        "colab_type": "text"
      },
      "source": [
        "<a href=\"https://colab.research.google.com/github/Goriachev/for_HW_Python_START/blob/HW_10/HW10.ipynb\" target=\"_parent\"><img src=\"https://colab.research.google.com/assets/colab-badge.svg\" alt=\"Open In Colab\"/></a>"
      ]
    },
    {
      "cell_type": "code",
      "execution_count": 24,
      "metadata": {
        "colab": {
          "base_uri": "https://localhost:8080/"
        },
        "id": "56asT5ZZhoO3",
        "outputId": "8072ec3b-d31e-4095-b02e-c1af43000d9f"
      },
      "outputs": [
        {
          "output_type": "stream",
          "name": "stdout",
          "text": [
            "   whoAmI\n",
            "0   robot\n",
            "1   human\n",
            "2   human\n",
            "3   human\n",
            "4   human\n",
            "5   robot\n",
            "6   human\n",
            "7   robot\n",
            "8   robot\n",
            "9   human\n",
            "10  robot\n",
            "11  robot\n",
            "12  human\n",
            "13  robot\n",
            "14  robot\n",
            "15  human\n",
            "16  human\n",
            "17  human\n",
            "18  robot\n",
            "19  robot\n",
            "   whoAmI\n",
            "0       1\n",
            "1       0\n",
            "2       0\n",
            "3       0\n",
            "4       0\n",
            "5       1\n",
            "6       0\n",
            "7       1\n",
            "8       1\n",
            "9       0\n",
            "10      1\n",
            "11      1\n",
            "12      0\n",
            "13      1\n",
            "14      1\n",
            "15      0\n",
            "16      0\n",
            "17      0\n",
            "18      1\n",
            "19      1\n"
          ]
        }
      ],
      "source": [
        "import pandas as pd \n",
        " \n",
        "import random\n",
        "lst = ['robot'] * 10\n",
        "lst += ['human'] * 10\n",
        "random.shuffle(lst)\n",
        "data = pd.DataFrame({'whoAmI':lst})\n",
        "data.head() \n",
        "print(data)\n",
        "\n",
        "\n",
        "\n",
        "data.loc[(data.whoAmI == \"human\"), 'whoAmI'] = 0\n",
        "data.loc[(data.whoAmI == \"robot\"), 'whoAmI'] = 1\n",
        "print(data)\n",
        " \n"
      ]
    }
  ]
}
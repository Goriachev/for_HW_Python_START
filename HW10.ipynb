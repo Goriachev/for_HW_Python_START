{
  "nbformat": 4,
  "nbformat_minor": 0,
  "metadata": {
    "colab": {
      "provenance": [],
      "authorship_tag": "ABX9TyOuCzlvePSL8o0IQ8TjVT+j",
      "include_colab_link": true
    },
    "kernelspec": {
      "name": "python3",
      "display_name": "Python 3"
    },
    "language_info": {
      "name": "python"
    }
  },
  "cells": [
    {
      "cell_type": "markdown",
      "metadata": {
        "id": "view-in-github",
        "colab_type": "text"
      },
      "source": [
        "<a href=\"https://colab.research.google.com/github/Goriachev/for_HW_Python_START/blob/HW_10/HW10.ipynb\" target=\"_parent\"><img src=\"https://colab.research.google.com/assets/colab-badge.svg\" alt=\"Open In Colab\"/></a>"
      ]
    },
    {
      "cell_type": "code",
      "execution_count": 96,
      "metadata": {
        "colab": {
          "base_uri": "https://localhost:8080/"
        },
        "id": "56asT5ZZhoO3",
        "outputId": "2a0d69d8-aed5-4955-b187-bce60745a0ba"
      },
      "outputs": [
        {
          "output_type": "stream",
          "name": "stdout",
          "text": [
            "   whoAmI\n",
            "0   human\n",
            "1   human\n",
            "2   robot\n",
            "3   human\n",
            "4   human\n",
            "5   robot\n",
            "6   robot\n",
            "7   human\n",
            "8   robot\n",
            "9   robot\n",
            "10  robot\n",
            "11  robot\n",
            "12  robot\n",
            "13  human\n",
            "14  human\n",
            "15  robot\n",
            "16  human\n",
            "17  human\n",
            "18  human\n",
            "19  robot\n",
            "   human robot\n",
            "0      1     0\n",
            "1      1     0\n",
            "2      0     1\n",
            "3      1     0\n",
            "4      1     0\n",
            "5      0     1\n",
            "6      0     1\n",
            "7      1     0\n",
            "8      0     1\n",
            "9      0     1\n",
            "10     0     1\n",
            "11     0     1\n",
            "12     0     1\n",
            "13     1     0\n",
            "14     1     0\n",
            "15     0     1\n",
            "16     1     0\n",
            "17     1     0\n",
            "18     1     0\n",
            "19     0     1\n"
          ]
        }
      ],
      "source": [
        "from pickle import FALSE\n",
        "from ast import Invert\n",
        "import pandas as pd \n",
        "import numpy as np \n",
        " \n",
        "import random\n",
        "lst = ['robot'] * 10\n",
        "lst += ['human'] * 10\n",
        "random.shuffle(lst)\n",
        "data = pd.DataFrame({'whoAmI':lst})\n",
        "data.head() \n",
        "print(data)\n",
        "ad = data[:]. copy () # чтобы оставить исходник\n",
        "\n",
        "\n",
        "\n",
        "ad.loc[(ad.whoAmI == \"human\"), 'whoAmI'] = 1\n",
        "ad.loc[(ad.whoAmI == \"robot\"), 'whoAmI'] = 0\n",
        "ad.rename(columns = {'whoAmI':'human'},inplace = True)\n",
        "ad[\"robot\"] = ~ad['human'] + 2\n",
        "print(ad)\n",
        "\n",
        "\n",
        "\n",
        "\n",
        "\n"
      ]
    }
  ]
}